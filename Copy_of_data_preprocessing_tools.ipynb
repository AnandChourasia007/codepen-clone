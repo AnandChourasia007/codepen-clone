{
  "nbformat": 4,
  "nbformat_minor": 0,
  "metadata": {
    "colab": {
      "provenance": [],
      "collapsed_sections": [],
      "include_colab_link": true
    },
    "kernelspec": {
      "name": "python3",
      "display_name": "Python 3"
    }
  },
  "cells": [
    {
      "cell_type": "markdown",
      "metadata": {
        "id": "view-in-github",
        "colab_type": "text"
      },
      "source": [
        "<a href=\"https://colab.research.google.com/github/AnandChourasia007/codepen-clone/blob/main/Copy_of_data_preprocessing_tools.ipynb\" target=\"_parent\"><img src=\"https://colab.research.google.com/assets/colab-badge.svg\" alt=\"Open In Colab\"/></a>"
      ]
    },
    {
      "cell_type": "markdown",
      "source": [],
      "metadata": {
        "id": "lCssKqdZu7La"
      }
    },
    {
      "cell_type": "markdown",
      "source": [
        "# Importing libraries"
      ],
      "metadata": {
        "id": "gqaBDF8xvyTw"
      }
    },
    {
      "cell_type": "markdown",
      "source": [
        "We generally include these three libraries,\n",
        "1.   numpy: to use arrays and general mathematics\n",
        "2.   matplotlib: to use charts using pyplot module\n",
        "3.   pandas: for importing data and manipulating it\n",
        "\n"
      ],
      "metadata": {
        "id": "RvCdHB0Yv4n4"
      }
    },
    {
      "cell_type": "code",
      "source": [
        "import numpy as np\n",
        "import matplotlib.pyplot as plt\n",
        "import pandas as pd"
      ],
      "metadata": {
        "id": "eVMaCIZmwgJt"
      },
      "execution_count": null,
      "outputs": []
    },
    {
      "cell_type": "markdown",
      "source": [
        "# Importing the dataset"
      ],
      "metadata": {
        "id": "LCMGv4HQw75R"
      }
    },
    {
      "cell_type": "markdown",
      "source": [
        "Take input data from a csv file. Then extract the input variables (or features) and the output variable (or dependent variables) from the input csv file.\n",
        "\n",
        "Python also allows you to index from the end of the list using a negative number, where [-1] returns the last element. This is super-useful since it means you don't have to programmatically find out the length of the iterable in order to work with elements at the end of it.\n",
        "\n",
        "'iloc' stands for index location, iloc[x,y] means rows in the range x and columns in the range y, where a range is written as 'l:r'. In Python, ranges include the first term and exclude the last term, when instead of range we have to take a single row/column, we can simply enter its index instead of the range. To take all values in a range we use a ':' ."
      ],
      "metadata": {
        "id": "fns5cJF-ynH_"
      }
    },
    {
      "cell_type": "code",
      "source": [
        "dataset = pd.read_csv('Data.csv')\n",
        "X = dataset.iloc[:, :-1].values     # X is now a matrix of input variables (or a matrix of features)\n",
        "Y = dataset.iloc[:, -1].values      "
      ],
      "metadata": {
        "id": "1Bz96vhCxvQi"
      },
      "execution_count": null,
      "outputs": []
    },
    {
      "cell_type": "code",
      "source": [
        "print(X)"
      ],
      "metadata": {
        "colab": {
          "base_uri": "https://localhost:8080/"
        },
        "id": "Jl_B7s4U1d82",
        "outputId": "36be6668-7167-4aa3-8c0b-1974e2b8b351"
      },
      "execution_count": null,
      "outputs": [
        {
          "output_type": "stream",
          "name": "stdout",
          "text": [
            "[['France' 44.0 72000.0]\n",
            " ['Spain' 27.0 48000.0]\n",
            " ['Germany' 30.0 54000.0]\n",
            " ['Spain' 38.0 61000.0]\n",
            " ['Germany' 40.0 nan]\n",
            " ['France' 35.0 58000.0]\n",
            " ['Spain' nan 52000.0]\n",
            " ['France' 48.0 79000.0]\n",
            " ['Germany' 50.0 83000.0]\n",
            " ['France' 37.0 67000.0]]\n"
          ]
        }
      ]
    },
    {
      "cell_type": "code",
      "source": [
        "print(Y)"
      ],
      "metadata": {
        "colab": {
          "base_uri": "https://localhost:8080/"
        },
        "id": "T-R5sLr81g2W",
        "outputId": "007f7fee-96f0-49a1-d781-5da1219d6f40"
      },
      "execution_count": null,
      "outputs": [
        {
          "output_type": "stream",
          "name": "stdout",
          "text": [
            "['No' 'Yes' 'No' 'No' 'Yes' 'Yes' 'No' 'Yes' 'No' 'Yes']\n"
          ]
        }
      ]
    },
    {
      "cell_type": "markdown",
      "source": [
        "# Taking care of missing data"
      ],
      "metadata": {
        "id": "NxWeB1jY05hQ"
      }
    },
    {
      "cell_type": "markdown",
      "source": [
        "When there is not a lot of missing data, we can simply drop the rows with missing data. But in other cases, we have to deal with it. Features that have numerical value missing can be replaced by the average of all the other values in that column. It is done using the SimpleImputer class in sklearn.impute module.\n",
        "\n",
        "fit() method is used to calculate the mean (in this case) and does not return anything, and transform() method is used to apply that mean to replace nan and returns the transformed data. There is a method fit_transform() that does both at the same time."
      ],
      "metadata": {
        "id": "KfagPSL63ut3"
      }
    },
    {
      "cell_type": "code",
      "source": [
        "from sklearn.impute import SimpleImputer\n",
        "imputer = SimpleImputer(missing_values=np.nan, strategy='mean')\n",
        "imputer.fit(X[:, 1:3])\n",
        "X[:, 1:3] = imputer.transform(X[:, 1:3])"
      ],
      "metadata": {
        "id": "btRZ_WjPu2bc"
      },
      "execution_count": null,
      "outputs": []
    },
    {
      "cell_type": "code",
      "source": [
        "print(X)"
      ],
      "metadata": {
        "colab": {
          "base_uri": "https://localhost:8080/"
        },
        "id": "dX3Nw0oAvdwG",
        "outputId": "7c87819f-e04e-40f7-cfc1-6357732e37c2"
      },
      "execution_count": null,
      "outputs": [
        {
          "output_type": "stream",
          "name": "stdout",
          "text": [
            "[['France' 44.0 72000.0]\n",
            " ['Spain' 27.0 48000.0]\n",
            " ['Germany' 30.0 54000.0]\n",
            " ['Spain' 38.0 61000.0]\n",
            " ['Germany' 40.0 63777.77777777778]\n",
            " ['France' 35.0 58000.0]\n",
            " ['Spain' 38.77777777777778 52000.0]\n",
            " ['France' 48.0 79000.0]\n",
            " ['Germany' 50.0 83000.0]\n",
            " ['France' 37.0 67000.0]]\n"
          ]
        }
      ]
    },
    {
      "cell_type": "markdown",
      "source": [
        "# Encoding independent categorical variables"
      ],
      "metadata": {
        "id": "Or6SFbsNwVIp"
      }
    },
    {
      "cell_type": "markdown",
      "source": [
        "If there is any categorical variable in the input matrix, we have to express it in numbers. This is achieved by encoding. For input variables that have more than two possible values we use OneHotEncoder, for the other one we use LabelEncoder. "
      ],
      "metadata": {
        "id": "VyO8FwaJwclQ"
      }
    },
    {
      "cell_type": "code",
      "source": [
        "from sklearn.compose import ColumnTransformer\n",
        "from sklearn.preprocessing import OneHotEncoder\n",
        "ct = ColumnTransformer(transformers=[('encoder', OneHotEncoder(),[0])], remainder='passthrough')\n",
        "X=np.array(ct.fit_transform(X))"
      ],
      "metadata": {
        "id": "Ao2Ko3RNxLhA"
      },
      "execution_count": null,
      "outputs": []
    },
    {
      "cell_type": "code",
      "source": [
        "print(X)"
      ],
      "metadata": {
        "colab": {
          "base_uri": "https://localhost:8080/"
        },
        "id": "fmMX28jWx0Ri",
        "outputId": "a71beb91-b5c4-4389-ed03-0d948b7954e9"
      },
      "execution_count": null,
      "outputs": [
        {
          "output_type": "stream",
          "name": "stdout",
          "text": [
            "[[1.0 0.0 0.0 44.0 72000.0]\n",
            " [0.0 0.0 1.0 27.0 48000.0]\n",
            " [0.0 1.0 0.0 30.0 54000.0]\n",
            " [0.0 0.0 1.0 38.0 61000.0]\n",
            " [0.0 1.0 0.0 40.0 63777.77777777778]\n",
            " [1.0 0.0 0.0 35.0 58000.0]\n",
            " [0.0 0.0 1.0 38.77777777777778 52000.0]\n",
            " [1.0 0.0 0.0 48.0 79000.0]\n",
            " [0.0 1.0 0.0 50.0 83000.0]\n",
            " [1.0 0.0 0.0 37.0 67000.0]]\n"
          ]
        }
      ]
    },
    {
      "cell_type": "markdown",
      "source": [
        "# Encoding dependent categorical variables"
      ],
      "metadata": {
        "id": "PdJD7bcqyLye"
      }
    },
    {
      "cell_type": "markdown",
      "source": [
        "In this case, dependent categorical variable has just two possible values, so we can use LabelEncoder."
      ],
      "metadata": {
        "id": "u2Dhm8gtySg2"
      }
    },
    {
      "cell_type": "code",
      "source": [
        "from sklearn.preprocessing import LabelEncoder\n",
        "le=LabelEncoder()\n",
        "Y=le.fit_transform(Y)"
      ],
      "metadata": {
        "id": "FMr7-fspya24"
      },
      "execution_count": null,
      "outputs": []
    },
    {
      "cell_type": "code",
      "source": [
        "print(Y)"
      ],
      "metadata": {
        "colab": {
          "base_uri": "https://localhost:8080/"
        },
        "id": "WjBCj-zoyrz7",
        "outputId": "5184f7ba-e27b-42a6-cb79-2c6c53dd9dd9"
      },
      "execution_count": null,
      "outputs": [
        {
          "output_type": "stream",
          "name": "stdout",
          "text": [
            "[0 1 0 0 1 1 0 1 0 1]\n"
          ]
        }
      ]
    },
    {
      "cell_type": "markdown",
      "source": [
        "# Splitting the dataset into testing and training data"
      ],
      "metadata": {
        "id": "rgkaZv5y1DLX"
      }
    },
    {
      "cell_type": "code",
      "source": [
        "from sklearn.model_selection import train_test_split\n",
        "X_train, X_test, Y_train, Y_test = train_test_split(X, Y, test_size=0.2, random_state=1)  # random_state=None means shuffling before splitting, so that every time we get different splits, random_state=any integer will always return the same splits."
      ],
      "metadata": {
        "id": "1Lv5p-ci1KJl"
      },
      "execution_count": null,
      "outputs": []
    },
    {
      "cell_type": "markdown",
      "source": [
        "# New Section"
      ],
      "metadata": {
        "id": "X8T5J4Ah3E4F"
      }
    },
    {
      "cell_type": "code",
      "source": [
        "print(X_train)"
      ],
      "metadata": {
        "colab": {
          "base_uri": "https://localhost:8080/"
        },
        "id": "4Aeoyt2r1i67",
        "outputId": "b5310708-3a75-4ecc-dd60-25567c9c4e80"
      },
      "execution_count": null,
      "outputs": [
        {
          "output_type": "stream",
          "name": "stdout",
          "text": [
            "[[0.0 0.0 1.0 38.77777777777778 52000.0]\n",
            " [0.0 1.0 0.0 40.0 63777.77777777778]\n",
            " [1.0 0.0 0.0 44.0 72000.0]\n",
            " [0.0 0.0 1.0 38.0 61000.0]\n",
            " [0.0 0.0 1.0 27.0 48000.0]\n",
            " [1.0 0.0 0.0 48.0 79000.0]\n",
            " [0.0 1.0 0.0 50.0 83000.0]\n",
            " [1.0 0.0 0.0 35.0 58000.0]]\n"
          ]
        }
      ]
    },
    {
      "cell_type": "code",
      "source": [
        "print(Y_train)"
      ],
      "metadata": {
        "colab": {
          "base_uri": "https://localhost:8080/"
        },
        "id": "niRR6m8a1itw",
        "outputId": "b45051f6-d552-4cbb-8ead-60938459fce1"
      },
      "execution_count": null,
      "outputs": [
        {
          "output_type": "stream",
          "name": "stdout",
          "text": [
            "[0 1 0 0 1 1 0 1]\n"
          ]
        }
      ]
    },
    {
      "cell_type": "code",
      "source": [
        "print(X_test)"
      ],
      "metadata": {
        "colab": {
          "base_uri": "https://localhost:8080/"
        },
        "id": "R65NLirM1ilS",
        "outputId": "f5bfdc5c-c9dc-44d3-dde4-92b83602c88c"
      },
      "execution_count": null,
      "outputs": [
        {
          "output_type": "stream",
          "name": "stdout",
          "text": [
            "[[0.0 1.0 0.0 30.0 54000.0]\n",
            " [1.0 0.0 0.0 37.0 67000.0]]\n"
          ]
        }
      ]
    },
    {
      "cell_type": "code",
      "source": [
        "print(Y_test)"
      ],
      "metadata": {
        "colab": {
          "base_uri": "https://localhost:8080/"
        },
        "id": "5Xe8mzpE1ibO",
        "outputId": "a4fc92c3-0f8e-4472-ff9e-24d810a3130d"
      },
      "execution_count": null,
      "outputs": [
        {
          "output_type": "stream",
          "name": "stdout",
          "text": [
            "[0 1]\n"
          ]
        }
      ]
    }
  ]
}